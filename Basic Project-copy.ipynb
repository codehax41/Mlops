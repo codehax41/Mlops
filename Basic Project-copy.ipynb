{
  "cells": [
    {
      "cell_type": "markdown",
      "source": [
        "![Impressions](https://PixelServer20190423114238.azurewebsites.net/api/impressions/MachineLearningNotebooks/how-to-use-azureml/deployment/deploy-multi-model/multi-model-register-and-deploy.png)"
      ],
      "metadata": {}
    },
    {
      "cell_type": "code",
      "source": [
        "from azureml.core import Workspace\n",
        "\n",
        "ws = Workspace.from_config()\n",
        "print(ws.name, ws.resource_group, ws.location, ws.subscription_id, sep='\\n')"
      ],
      "outputs": [
        {
          "output_type": "stream",
          "name": "stdout",
          "text": "ram\nram\ncentralindia\n82cfc0a9-b871-4f48-bb9a-0f9e00faacf9\n"
        }
      ],
      "execution_count": 1,
      "metadata": {
        "tags": [
          "create workspace"
        ],
        "gather": {
          "logged": 1675416984484
        }
      }
    },
    {
      "cell_type": "code",
      "source": [
        "import joblib\n",
        "import sklearn\n",
        "\n",
        "from sklearn.datasets import load_diabetes\n",
        "from sklearn.linear_model import BayesianRidge, Ridge"
      ],
      "outputs": [],
      "execution_count": 3,
      "metadata": {
        "gather": {
          "logged": 1675417017375
        }
      }
    },
    {
      "cell_type": "code",
      "source": [
        "x, y = load_diabetes(return_X_y=True)"
      ],
      "outputs": [],
      "execution_count": 4,
      "metadata": {
        "jupyter": {
          "source_hidden": false,
          "outputs_hidden": false
        },
        "nteract": {
          "transient": {
            "deleting": false
          }
        },
        "gather": {
          "logged": 1675417017817
        }
      }
    },
    {
      "cell_type": "code",
      "source": [
        "first_model = Ridge().fit(x, y)"
      ],
      "outputs": [],
      "execution_count": 5,
      "metadata": {
        "jupyter": {
          "source_hidden": false,
          "outputs_hidden": false
        },
        "nteract": {
          "transient": {
            "deleting": false
          }
        },
        "gather": {
          "logged": 1675417018035
        }
      }
    },
    {
      "cell_type": "code",
      "source": [
        "joblib.dump(first_model, \"model_ridge.pkl\")"
      ],
      "outputs": [
        {
          "output_type": "execute_result",
          "execution_count": 6,
          "data": {
            "text/plain": "['model_ridge.pkl']"
          },
          "metadata": {}
        }
      ],
      "execution_count": 6,
      "metadata": {
        "jupyter": {
          "source_hidden": false,
          "outputs_hidden": false
        },
        "nteract": {
          "transient": {
            "deleting": false
          }
        },
        "gather": {
          "logged": 1675417018527
        }
      }
    },
    {
      "cell_type": "code",
      "source": [
        "from azureml.core.model import Model"
      ],
      "outputs": [],
      "execution_count": 7,
      "metadata": {
        "jupyter": {
          "source_hidden": false,
          "outputs_hidden": false
        },
        "nteract": {
          "transient": {
            "deleting": false
          }
        },
        "gather": {
          "logged": 1675417019144
        }
      }
    },
    {
      "cell_type": "code",
      "source": [
        "model = Model.register(model_path=\"model_ridge.pkl\",\n",
        "                            model_name=\"model_ridge\",\n",
        "                            workspace=ws)"
      ],
      "outputs": [
        {
          "output_type": "stream",
          "name": "stdout",
          "text": "Registering model model_ridge\n"
        }
      ],
      "execution_count": 8,
      "metadata": {
        "tags": [
          "register model from file"
        ],
        "gather": {
          "logged": 1675417023916
        }
      }
    },
    {
      "cell_type": "code",
      "source": [
        "%%writefile score2.py\n",
        "import joblib\n",
        "import json\n",
        "import numpy as np\n",
        "\n",
        "from azureml.core.model import Model\n",
        "\n",
        "def init():\n",
        "    global model_3\n",
        "    model_3_path = Model.get_model_path(model_name='model_ridge')\n",
        "    model_3 = joblib.load(model_3_path)\n",
        "\n",
        "def run(raw_data):\n",
        "    try:\n",
        "        data = json.loads(raw_data)['data']\n",
        "        data = np.array(data)\n",
        "        result_1 = model_3.predict(data)\n",
        "        \n",
        "        return {\"prediction1\": result_1.tolist()}\n",
        "    except Exception as e:\n",
        "        result = str(e)\n",
        "        return result"
      ],
      "outputs": [
        {
          "output_type": "stream",
          "name": "stdout",
          "text": "Overwriting score2.py\n"
        }
      ],
      "execution_count": 9,
      "metadata": {}
    },
    {
      "cell_type": "code",
      "source": [
        "from azureml.core import Environment\n",
        "\n",
        "env = Environment(\"deploytocloudenv\")\n",
        "env.python.conda_dependencies.add_pip_package(\"joblib\")\n",
        "env.python.conda_dependencies.add_pip_package(\"numpy==1.23\")\n",
        "env.python.conda_dependencies.add_pip_package(\"scikit-learn=={}\".format(sklearn.__version__))"
      ],
      "outputs": [],
      "execution_count": 10,
      "metadata": {
        "gather": {
          "logged": 1675417027408
        }
      }
    },
    {
      "cell_type": "code",
      "source": [
        "from azureml.core.model import InferenceConfig\n",
        "\n",
        "inference_config = InferenceConfig(entry_script=\"score2.py\", environment=env)"
      ],
      "outputs": [],
      "execution_count": 11,
      "metadata": {
        "tags": [
          "create image"
        ],
        "gather": {
          "logged": 1675417027828
        }
      }
    },
    {
      "cell_type": "code",
      "source": [
        "from azureml.core.webservice import AciWebservice\r\n",
        "\r\n",
        "aci_service_name = \"aciservice-modelridge\"\r\n",
        "\r\n",
        "deployment_config = AciWebservice.deploy_configuration(cpu_cores=1, memory_gb=1)\r\n",
        "\r\n",
        "service = Model.deploy(ws, aci_service_name, [model], inference_config, deployment_config, overwrite=True)\r\n",
        "service.wait_for_deployment(True)\r\n",
        "\r\n",
        "print(service.state)"
      ],
      "outputs": [
        {
          "output_type": "stream",
          "name": "stderr",
          "text": "/tmp/ipykernel_7498/2843957594.py:7: FutureWarning: azureml.core.model:\nTo leverage new model deployment capabilities, AzureML recommends using CLI/SDK v2 to deploy models as online endpoint, \nplease refer to respective documentations \nhttps://docs.microsoft.com/azure/machine-learning/how-to-deploy-managed-online-endpoints /\nhttps://docs.microsoft.com/azure/machine-learning/how-to-attach-kubernetes-anywhere \nFor more information on migration, see https://aka.ms/acimoemigration. \nTo disable CLI/SDK v1 deprecation warning set AZUREML_LOG_DEPRECATION_WARNING_ENABLED to 'False'\n  service = Model.deploy(ws, aci_service_name, [model], inference_config, deployment_config, overwrite=True)\n"
        },
        {
          "output_type": "stream",
          "name": "stdout",
          "text": "Tips: You can try get_logs(): https://aka.ms/debugimage#dockerlog or local deployment: https://aka.ms/debugimage#debug-locally to debug if deployment takes longer than 10 minutes.\nRunning\n2023-02-03 09:37:21+00:00 Creating Container Registry if not exists.\n2023-02-03 09:37:21+00:00 Registering the environment.\n2023-02-03 09:37:23+00:00 Use the existing image.\n2023-02-03 09:37:23+00:00 Generating deployment configuration.\n2023-02-03 09:37:24+00:00 Submitting deployment to compute.\n2023-02-03 09:37:33+00:00 Checking the status of deployment aciservice-modelridge..\n2023-02-03 09:38:49+00:00 Checking the status of inference endpoint aciservice-modelridge.\nSucceeded\nACI service creation operation finished, operation \"Succeeded\"\nHealthy\n"
        }
      ],
      "execution_count": 13,
      "metadata": {
        "jupyter": {
          "source_hidden": false,
          "outputs_hidden": false
        },
        "nteract": {
          "transient": {
            "deleting": false
          }
        },
        "gather": {
          "logged": 1675417136093
        }
      }
    },
    {
      "cell_type": "code",
      "source": [
        "import json"
      ],
      "outputs": [],
      "execution_count": 14,
      "metadata": {
        "jupyter": {
          "source_hidden": false,
          "outputs_hidden": false
        },
        "nteract": {
          "transient": {
            "deleting": false
          }
        },
        "gather": {
          "logged": 1675417440202
        }
      }
    },
    {
      "cell_type": "code",
      "source": [
        "test_sample = json.dumps({'data': x[0:2].tolist()})\r\n",
        "predictions = service.run(test_sample)\r\n",
        "predictions"
      ],
      "outputs": [
        {
          "output_type": "execute_result",
          "execution_count": 42,
          "data": {
            "text/plain": "{'prediction1': [182.67357342863968, 90.99902728640282]}"
          },
          "metadata": {}
        }
      ],
      "execution_count": 42,
      "metadata": {
        "jupyter": {
          "source_hidden": false,
          "outputs_hidden": false
        },
        "nteract": {
          "transient": {
            "deleting": false
          }
        },
        "gather": {
          "logged": 1675417861125
        }
      }
    },
    {
      "cell_type": "code",
      "source": [],
      "outputs": [],
      "execution_count": null,
      "metadata": {
        "jupyter": {
          "source_hidden": false,
          "outputs_hidden": false
        },
        "nteract": {
          "transient": {
            "deleting": false
          }
        }
      }
    },
    {
      "cell_type": "code",
      "source": [],
      "outputs": [],
      "execution_count": null,
      "metadata": {
        "jupyter": {
          "source_hidden": false,
          "outputs_hidden": false
        },
        "nteract": {
          "transient": {
            "deleting": false
          }
        }
      }
    }
  ],
  "metadata": {
    "authors": [
      {
        "name": "jenns"
      }
    ],
    "kernelspec": {
      "name": "python38-azureml",
      "language": "python",
      "display_name": "Python 3.8 - AzureML"
    },
    "language_info": {
      "name": "python",
      "version": "3.8.10",
      "mimetype": "text/x-python",
      "codemirror_mode": {
        "name": "ipython",
        "version": 3
      },
      "pygments_lexer": "ipython3",
      "nbconvert_exporter": "python",
      "file_extension": ".py"
    },
    "kernel_info": {
      "name": "python38-azureml"
    },
    "microsoft": {
      "host": {
        "AzureML": {
          "notebookHasBeenCompleted": true
        }
      }
    },
    "nteract": {
      "version": "nteract-front-end@1.0.0"
    }
  },
  "nbformat": 4,
  "nbformat_minor": 2
}